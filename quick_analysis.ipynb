{
 "cells": [
  {
   "cell_type": "code",
   "execution_count": null,
   "id": "8ac1a685-a89e-4416-9179-f26e8ffa2806",
   "metadata": {},
   "outputs": [],
   "source": [
    "import os\n",
    "import pandas as pd\n",
    "\n",
    "folder_path = 'results'\n",
    "\n",
    "csv_files = [file for file in os.listdir(folder_path) if file.endswith('.csv')]\n",
    "combined_data = pd.DataFrame()\n",
    "\n",
    "for csv_file in csv_files:\n",
    "    file_path = os.path.join(folder_path, csv_file)\n",
    "    df = pd.read_csv(file_path)\n",
    "    combined_data = pd.concat([combined_data, df], ignore_index=True)"
   ]
  },
  {
   "cell_type": "code",
   "execution_count": null,
   "id": "45a3d6b5-cf1e-40aa-86a2-fdd40ce928d2",
   "metadata": {},
   "outputs": [],
   "source": [
    "combined_data"
   ]
  },
  {
   "cell_type": "code",
   "execution_count": null,
   "id": "98521b8e-d4b0-4853-a5f4-27451ff92df7",
   "metadata": {},
   "outputs": [],
   "source": [
    "combined_data.loc[combined_data.category == 'products','category'] = \"products/clothing\""
   ]
  },
  {
   "cell_type": "code",
   "execution_count": null,
   "id": "1632d6e7-bb25-40c0-ba93-7e47828117da",
   "metadata": {},
   "outputs": [],
   "source": [
    "df = combined_data.groupby('category')['amount'].sum().reset_index()"
   ]
  },
  {
   "cell_type": "code",
   "execution_count": null,
   "id": "24a3d847-9e25-46f3-b662-a2546ce70ec9",
   "metadata": {},
   "outputs": [],
   "source": [
    "df"
   ]
  },
  {
   "cell_type": "code",
   "execution_count": null,
   "id": "eb887dde-e73d-429d-8e8a-3e5cc480da6c",
   "metadata": {},
   "outputs": [],
   "source": [
    "df.category.unique()"
   ]
  },
  {
   "cell_type": "code",
   "execution_count": null,
   "id": "0f6ee1cc-192b-4091-ae38-9f12abfdb492",
   "metadata": {},
   "outputs": [],
   "source": [
    "df = df.sort_values(by='amount', ascending=False)\n",
    "df"
   ]
  },
  {
   "cell_type": "code",
   "execution_count": null,
   "id": "25371466-f942-4ed9-a876-073a3800f9cd",
   "metadata": {},
   "outputs": [],
   "source": [
    "import matplotlib.pyplot as plt\n",
    "plt.figure(figsize=(8, 8))\n",
    "plt.pie(df['amount'], labels=df['category'], autopct='%1.1f%%', startangle=140)\n",
    "plt.title('Pie Chart of Amounts by Category')\n",
    "plt.show()"
   ]
  },
  {
   "cell_type": "code",
   "execution_count": null,
   "id": "f06f2fea-20b1-4119-a417-fa6815ef8251",
   "metadata": {},
   "outputs": [],
   "source": [
    "plt.figure(figsize=(10, 6))\n",
    "bars = plt.bar(df['category'], df['amount'], color='skyblue')\n",
    "plt.xlabel('Category')\n",
    "plt.ylabel('Amount ($)')\n",
    "plt.title('Vertical Bar Chart of Amounts by Category')\n",
    "\n",
    "# Rotate x-axis ticks\n",
    "plt.xticks(rotation=45, ha='right')  # ha='right' aligns the ticks to the right for better readability\n",
    "\n",
    "# Add data labels on top of the bars\n",
    "for bar in bars:\n",
    "    yval = bar.get_height()\n",
    "    plt.text(bar.get_x() + bar.get_width()/2, yval + 0.1, round(yval, 1), ha='center', va='bottom')\n",
    "\n",
    "plt.show()"
   ]
  },
  {
   "cell_type": "code",
   "execution_count": null,
   "id": "13cad4f2-d6ef-4836-abd5-f74c49fe2e4e",
   "metadata": {},
   "outputs": [],
   "source": [
    "df['average_per_month'] = df['amount'] / len(csv_files) / 2"
   ]
  },
  {
   "cell_type": "code",
   "execution_count": null,
   "id": "6473f4ea-444a-4b39-9441-195594c77818",
   "metadata": {},
   "outputs": [],
   "source": [
    "df"
   ]
  }
 ],
 "metadata": {
  "kernelspec": {
   "display_name": "Python 3 (ipykernel)",
   "language": "python",
   "name": "python3"
  },
  "language_info": {
   "codemirror_mode": {
    "name": "ipython",
    "version": 3
   },
   "file_extension": ".py",
   "mimetype": "text/x-python",
   "name": "python",
   "nbconvert_exporter": "python",
   "pygments_lexer": "ipython3",
   "version": "3.9.18"
  }
 },
 "nbformat": 4,
 "nbformat_minor": 5
}
